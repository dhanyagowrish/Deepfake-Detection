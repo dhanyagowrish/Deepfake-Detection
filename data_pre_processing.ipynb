{
 "cells": [
  {
   "cell_type": "code",
   "execution_count": 1,
   "metadata": {},
   "outputs": [],
   "source": [
    "#code to load data into pytorch"
   ]
  },
  {
   "cell_type": "code",
   "execution_count": null,
   "metadata": {},
   "outputs": [],
   "source": [
    "from facenet_pytorch import MTCNN\n",
    "import math\n",
    "import cv2\n",
    "from PIL import Image\n",
    "import numpy as np\n",
    "from matplotlib import pyplot as plt\n",
    "from tqdm import tqdm\n",
    "import torch\n",
    "import os\n",
    "import json\n",
    "import shutil"
   ]
  },
  {
   "cell_type": "code",
   "execution_count": null,
   "metadata": {},
   "outputs": [],
   "source": [
    "#check if GPU is present\n",
    "device = torch.device('cuda:0' if torch.cuda.is_available() else 'cpu')\n",
    "print('Running on device: {}'.format(device))"
   ]
  },
  {
   "cell_type": "code",
   "execution_count": 14,
   "metadata": {},
   "outputs": [],
   "source": [
    "#load metadata.json file \n",
    "#metadata file has videos and corresponding labels \"REAL\" or \"FAKE\"\n",
    "fp=open('metadata.json',)\n",
    "data=json.load(fp)"
   ]
  },
  {
   "cell_type": "code",
   "execution_count": 15,
   "metadata": {},
   "outputs": [],
   "source": [
    "#creating data directory \n",
    "if not os.path.exists('data'):\n",
    "    os.makedirs('data')"
   ]
  },
  {
   "cell_type": "code",
   "execution_count": 16,
   "metadata": {},
   "outputs": [],
   "source": [
    "#creating train_faces directory\n",
    "\n",
    "if not os.path.exists('data\\train'):\n",
    "    os.makedirs('data\\train')"
   ]
  },
  {
   "cell_type": "code",
   "execution_count": 17,
   "metadata": {},
   "outputs": [],
   "source": [
    "#creating fake and real directories \n",
    "\n",
    "if not os.path.exists('data\\train\\real'):\n",
    "    os.makedirs('data\\train\\real')\n",
    "    \n",
    "if not os.path.exists('data\\train\\fake'):\n",
    "    os.makedirs('data\\train\\fake')"
   ]
  },
  {
   "cell_type": "code",
   "execution_count": 18,
   "metadata": {},
   "outputs": [],
   "source": [
    "#creating val_faces directory\n",
    "if not os.path.exists('data\\val'):\n",
    "    os.makedirs('data\\val')\n",
    "\n",
    "#creating fake and real directories \n",
    "if not os.path.exists('data\\val\\real'):\n",
    "    os.makedirs('data\\val\\real')\n",
    "\n",
    "if not os.path.exists('data\\val\\fake'):\n",
    "    os.makedirs('data\\val\\fake')"
   ]
  },
  {
   "cell_type": "code",
   "execution_count": 19,
   "metadata": {},
   "outputs": [],
   "source": [
    "#creating validation video file\n",
    "if not os.path.exists('validation_videos'):\n",
    "    os.makedirs('validation_videos')"
   ]
  },
  {
   "cell_type": "code",
   "execution_count": null,
   "metadata": {},
   "outputs": [],
   "source": [
    "#training and validation split is 80:20 ratio\n",
    "# load 20% videos into val folder\n",
    "\n",
    "import random\n",
    "x=(os.listdir(\"train_videos\"))\n",
    "\n",
    "print(len(x))\n",
    "\n",
    "amt1=0.2*len(x)\n",
    "amt1=math.ceil(amt1)"
   ]
  },
  {
   "cell_type": "code",
   "execution_count": 20,
   "metadata": {},
   "outputs": [],
   "source": [
    "i=1\n",
    "reqd=\"train_videos\"\n",
    "dest_file=(\"validation_videos\")\n",
    "\n",
    "while i!=amt1:\n",
    "    i=i+1\n",
    "    source=random.choice(os.listdir(\"train_videos\"))\n",
    "    src=reqd+\"\\\\\"+ source\n",
    "    shutil.copy(src,dest_file)\n",
    "    os.remove(src)"
   ]
  },
  {
   "cell_type": "code",
   "execution_count": 24,
   "metadata": {},
   "outputs": [],
   "source": [
    "#loading MTCNN model to detect faces in the frames of the video\n",
    "\n",
    "mtcnn = MTCNN(margin=20, keep_all=True, post_process=False, device=device)"
   ]
  },
  {
   "cell_type": "code",
   "execution_count": null,
   "metadata": {},
   "outputs": [],
   "source": [
    "#creating training dataset\n",
    "\n",
    "# split each video into frames and identify faces in each frame\n",
    "# if the label of the video is \"fake\" - save the face frame to \\data\\fake\n",
    "# if the label of the video is \"real\" - save the face frame to \\data\\real\n",
    "\n",
    "d=\"train_videos\"     # folder where train videos are located\n",
    "\n",
    "\n",
    "\n",
    "for path in os.listdir(d):\n",
    "    \n",
    "    #load video\n",
    "    v_cap=cv2.VideoCapture(\"train_videos\"+'\\\\'+path)\n",
    "    v_len = int(v_cap.get(cv2.CAP_PROP_FRAME_COUNT))\n",
    "    \n",
    "    #for every video select every 30th frame\n",
    "    \n",
    "    frames = []\n",
    "    for i in tqdm(range(v_len)):\n",
    "    \n",
    "        # Load frame\n",
    "        success = v_cap.grab()\n",
    "        if i % 30 == 0:\n",
    "            success, frame = v_cap.retrieve()\n",
    "        else:\n",
    "            continue\n",
    "        if not success:\n",
    "            continue\n",
    "        \n",
    "        #add to batch\n",
    "        frame = cv2.cvtColor(frame, cv2.COLOR_BGR2RGB)\n",
    "        frames.append(Image.fromarray(frame))\n",
    "        \n",
    "    file_name = \"real\" if data[path]['label']=='REAL' else \"fake\"\n",
    "    \n",
    "    \n",
    "    f=\"data\\train\\\\\" + file_name + \"\\\\\"\n",
    "    frames_paths = [f+ path[0:-4] + str(i) +'.jpg' for i in range(1,len(frames)+1)]\n",
    "    faces = mtcnn(frames,save_path=frames_paths)\n",
    "\n"
   ]
  },
  {
   "cell_type": "code",
   "execution_count": null,
   "metadata": {},
   "outputs": [],
   "source": [
    "#creating validation dataset\n",
    "\n",
    "# split each video into frames and identify faces in each frame\n",
    "# if the label of the video is \"fake\" - save the face frame to \\data\\fake\n",
    "# if the label of the video is \"real\" - save the face frame to \\data\\real\n",
    "\n",
    "d=r\"validation_videos\"  \n",
    "\n",
    "\n",
    "\n",
    "for path in os.listdir(d):\n",
    "    \n",
    "    #load video\n",
    "    v_cap=cv2.VideoCapture(\"validation_videos\"+'\\\\'+path)\n",
    "    v_len = int(v_cap.get(cv2.CAP_PROP_FRAME_COUNT))\n",
    "    \n",
    "    #for every video, select the 30th frame\n",
    "    \n",
    "    frames = []\n",
    "    for i in tqdm(range(v_len)):\n",
    "    \n",
    "        # Load frame\n",
    "        success = v_cap.grab()\n",
    "        if i % 30 == 0:\n",
    "            success, frame = v_cap.retrieve()\n",
    "        else:\n",
    "            continue\n",
    "        if not success:\n",
    "            continue\n",
    "        \n",
    "        #add to batch\n",
    "        frame = cv2.cvtColor(frame, cv2.COLOR_BGR2RGB)\n",
    "        frames.append(Image.fromarray(frame))\n",
    "        \n",
    "    file_name = \"real\" if data[path]['label']=='REAL' else \"fake\"\n",
    "    \n",
    "    \n",
    "    f=r\"data\\val\\\\\" + file_name + \"\\\\\"\n",
    "    frames_paths = [f+ path[0:-4] + str(i) +'.jpg' for i in range(1,len(frames)+1)]\n",
    "    faces = mtcnn(frames,save_path=frames_paths)\n",
    "\n"
   ]
  },
  {
   "cell_type": "code",
   "execution_count": 1,
   "metadata": {},
   "outputs": [],
   "source": [
    "#create checkpoint file \n",
    "f=open(\"checkpoint.pth\",\"x\")"
   ]
  },
  {
   "cell_type": "code",
   "execution_count": 2,
   "metadata": {},
   "outputs": [],
   "source": [
    "f.close()"
   ]
  }
 ],
 "metadata": {
  "kernelspec": {
   "display_name": "Python 3",
   "language": "python",
   "name": "python3"
  },
  "language_info": {
   "codemirror_mode": {
    "name": "ipython",
    "version": 3
   },
   "file_extension": ".py",
   "mimetype": "text/x-python",
   "name": "python",
   "nbconvert_exporter": "python",
   "pygments_lexer": "ipython3",
   "version": "3.7.3"
  }
 },
 "nbformat": 4,
 "nbformat_minor": 2
}
